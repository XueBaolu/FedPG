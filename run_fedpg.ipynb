{
 "cells": [
  {
   "cell_type": "code",
   "execution_count": 1,
   "id": "3f73bb4e-a682-4a9e-a2c7-095da4f2573a",
   "metadata": {},
   "outputs": [],
   "source": [
    "#### 对比实验 ####"
   ]
  },
  {
   "cell_type": "code",
   "execution_count": 2,
   "id": "27f5ac67-b91b-4151-ad88-c0447e5ce63d",
   "metadata": {},
   "outputs": [
    {
     "name": "stderr",
     "output_type": "stream",
     "text": [
     
     ]
    }
   ],
   "source": [
    "# 导入环境\n",
    "import sys\n",
    "sys.path.append(r'./FederatedScope-master')\n",
    "# 配置参数的定义\n",
    "from federatedscope.core.configs.config import global_cfg\n",
    "cfg = global_cfg.clone()"
   ]
  },
  {
   "cell_type": "code",
   "execution_count": 3,
   "id": "a05f80d0-9287-4290-8d1b-cf0b73ef52c7",
   "metadata": {},
   "outputs": [],
   "source": [
    "# # # ## fedpg算法参数\n",
    "from xbl_codes.fed_proto_gan import FedPG_trainer\n",
    "from xbl_codes.fed_proto_gan.FedPG_workers import FedPGServr, FedPGClient\n",
    "cfg.fedpg.use = True\n",
    "cfg.expname = 'FedPG'\n",
    "cfg.federate.method = 'fedpg'\n",
    "cfg.trainer.type = 'fedpg_trainer'\n",
    "cfg.fedpg.vdata_per_class = 256\n",
    "cfg.fedpg.v_batch_size = 64\n",
    "# cfg.fedpg.weight_vdata = 1 #{0.1, 0.2, 0.5, 1)s\n",
    "cfg.fedpg.weight_align = 20 #5\n",
    "cfg.fedpg.upper_bound = 30\n",
    "# cfg.fedpg.weight_decay = 0.95\n",
    "\n",
    "# 保存模型的轮次\n",
    "cfg.federate.server_save_round = [1, 100, 200, 300]\n",
    "# cfg.federate.client_save_round = [1, 99, 101, 199, 201, 299, 301]\n",
    "# cfg.federate.save_to = '../models/fedpg_lda0.1/' # 模型保存位置"
   ]
  },
  {
   "cell_type": "code",
   "execution_count": 4,
   "id": "f1dbad72-d6ad-43be-b63b-96e8b290641a",
   "metadata": {},
   "outputs": [],
   "source": [
    "# cfg.federate.method = 'fedavg'\n",
    "# cfg.federate.server_save_round = [1, 100, 200, 300]\n",
    "# cfg.federate.client_save_round = [1, 99, 101, 199, 201, 299, 301]\n",
    "# cfg.federate.save_to = '../models/fedavg_lda0.1/' # 模型保存位置"
   ]
  },
  {
   "cell_type": "code",
   "execution_count": 5,
   "id": "29e02849-3555-4ce5-8e20-d9ca99751897",
   "metadata": {},
   "outputs": [],
   "source": [
    "# 模型参数\n",
    "cfg.model.type = 'resnet18'\n",
    "cfg.model.in_channels = 3\n",
    "cfg.model.out_channels = 10"
   ]
  },
  {
   "cell_type": "code",
   "execution_count": 6,
   "id": "5079c1fe-e8cc-4bab-98a1-01e02ce6036c",
   "metadata": {},
   "outputs": [],
   "source": [
    "# 数据参数\n",
    "from federatedscope.core.auxiliaries.data_builder import get_data\n",
    "from federatedscope.cv.dataset  import cifar\n",
    "from xbl_codes.utils import noniid_splitters\n",
    "\n",
    "cfg.data.type = 'cifar10'\n",
    "# cfg.data.transform = [['ToTensor'], ['Normalize', {'mean':[0.1307], 'std':[0.3081]}], ['Resize',{'size': [64, 64]}]] # femnist\n",
    "cfg.data.root = './data'\n",
    "\n",
    "cfg.data.splits = [0.85, 0.05, 0.1]\n",
    "\n",
    "# 必须要加的超参数，否则acc=0.0(但是对于femnist来说不需要lda划分\n",
    "cfg.data.splitter = 'lda'\n",
    "cfg.data.splitter_args = [{'alpha':0.1}]\n",
    "\n",
    "cfg.data.shuffle = True\n",
    "cfg.data.batch_size = 64"
   ]
  },
  {
   "cell_type": "code",
   "execution_count": 7,
   "id": "8b5ded47-ad96-4ae7-b778-85cbb498e504",
   "metadata": {},
   "outputs": [],
   "source": [
    "# 训练参数\n",
    "cfg.train.optimizer.lr = 0.1\n",
    "\n",
    "cfg.train.optimizer.weight_decay = 0.0\n",
    "cfg.grad.grad_clip = 5.0\n",
    "cfg.early_stop.patience = 10\n",
    "\n",
    "cfg.criterion.type = 'CrossEntropyLoss'"
   ]
  },
  {
   "cell_type": "code",
   "execution_count": 8,
   "id": "a24410ac-ca3b-4585-8a38-315a16891e67",
   "metadata": {},
   "outputs": [],
   "source": [
    "# 系统参数\n",
    "cfg.wandb.use = True\n",
    "# cfg.wandb.name_project = 'fedpg_config'\n",
    "cfg.wandb.client_train_info = False\n",
    "\n",
    "cfg.use_gpu = True\n",
    "cfg.seed = 908\n",
    "\n",
    "cfg.eval.freq = 1\n",
    "cfg.eval.metrics = ['acc', 'f1']\n",
    "cfg.eval.best_res_update_round_wise_key = 'test_acc'\n",
    "\n",
    "\n",
    "cfg.federate.mode = 'standalone'\n",
    "# cfg.federate.method = 'fedavg'\n",
    "# cfg.federate.method = 'global'\n",
    "\n",
    "cfg.federate.make_global_eval = True\n",
    "cfg.federate.merge_test_data = True\n",
    "cfg.federate.merge_val_data = True\n",
    "\n",
    "cfg.federate.total_round_num = 100\n",
    "\n",
    "cfg.train.batch_or_epoch = 'epoch'\n",
    "cfg.train.local_update_steps = 5\n",
    "\n",
    "\n",
    "cfg.federate.client_num = 10\n",
    "cfg.federate.sample_client_num = 5"
   ]
  },
  {
   "cell_type": "code",
   "execution_count": 9,
   "id": "1b40b929-1526-47b2-9e36-db1e003e1e96",
   "metadata": {
    "scrolled": true
   },
   "outputs": [
    {
     "name": "stderr",
     "output_type": "stream",
     "text": [
      "2024-03-24 09:15:10,711 (logging:124)INFO: the current machine is at 10.96.3.179\n",
      "2024-03-24 09:15:10,714 (logging:126)INFO: the current dir is C:\\Users\\xbl\\exp_codes\\FederatedScope-master\\xbl_codes\\fed_proto_gan\n",
      "2024-03-24 09:15:10,716 (logging:127)INFO: the output dir is exp\\FedPG\\sub_exp_20240324091510\n"
     ]
    },
    {
     "name": "stdout",
     "output_type": "stream",
     "text": [
      "\u001b[34m\u001b[1mwandb\u001b[0m: Currently logged in as: \u001b[33mxuebl236\u001b[0m. Use \u001b[1m`wandb login --relogin`\u001b[0m to force relogin\n"
     ]
    },
    {
     "data": {
      "application/vnd.jupyter.widget-view+json": {
       "model_id": "8a03cbb3aea04ff29873a64d02a940a6",
       "version_major": 2,
       "version_minor": 0
      },
      "text/plain": [
       "VBox(children=(Label(value='Waiting for wandb.init()...\\r'), FloatProgress(value=0.011111111111111112, max=1.0…"
      ]
     },
     "metadata": {},
     "output_type": "display_data"
    },
    {
     "data": {
      "text/html": [
       "wandb version 0.16.4 is available!  To upgrade, please run:\n",
       " $ pip install wandb --upgrade"
      ],
      "text/plain": [
       "<IPython.core.display.HTML object>"
      ]
     },
     "metadata": {},
     "output_type": "display_data"
    },
    {
     "data": {
      "text/html": [
       "Tracking run with wandb version 0.16.1"
      ],
      "text/plain": [
       "<IPython.core.display.HTML object>"
      ]
     },
     "metadata": {},
     "output_type": "display_data"
    },
    {
     "data": {
      "text/html": [
       "Run data is saved locally in <code>C:\\Users\\xbl\\exp_codes\\FederatedScope-master\\xbl_codes\\fed_proto_gan\\wandb\\run-20240324_091516-la9edw4h</code>"
      ],
      "text/plain": [
       "<IPython.core.display.HTML object>"
      ]
     },
     "metadata": {},
     "output_type": "display_data"
    },
    {
     "data": {
      "text/html": [
       "Syncing run <strong><a href='https://wandb.ai/xuebl236/fedpg_config/runs/la9edw4h' target=\"_blank\">acc_bs_align_b30</a></strong> to <a href='https://wandb.ai/xuebl236/fedpg_config' target=\"_blank\">Weights & Biases</a> (<a href='https://wandb.me/run' target=\"_blank\">docs</a>)<br/>"
      ],
      "text/plain": [
       "<IPython.core.display.HTML object>"
      ]
     },
     "metadata": {},
     "output_type": "display_data"
    },
    {
     "data": {
      "text/html": [
       " View project at <a href='https://wandb.ai/xuebl236/fedpg_config' target=\"_blank\">https://wandb.ai/xuebl236/fedpg_config</a>"
      ],
      "text/plain": [
       "<IPython.core.display.HTML object>"
      ]
     },
     "metadata": {},
     "output_type": "display_data"
    },
    {
     "data": {
      "text/html": [
       " View run at <a href='https://wandb.ai/xuebl236/fedpg_config/runs/la9edw4h' target=\"_blank\">https://wandb.ai/xuebl236/fedpg_config/runs/la9edw4h</a>"
      ],
      "text/plain": [
       "<IPython.core.display.HTML object>"
      ]
     },
     "metadata": {},
     "output_type": "display_data"
    },
    {
     "name": "stderr",
     "output_type": "stream",
     "text": []
    }
   ],
   "source": [
    "# 传参，记录\n",
    "from federatedscope.core.auxiliaries.utils import setup_seed\n",
    "from federatedscope.core.auxiliaries.logging import update_logger\n",
    "setup_seed(cfg.seed)\n",
    "update_logger(cfg)"
   ]
  },
  {
   "cell_type": "code",
   "execution_count": 10,
   "id": "8c9734fd-3f63-4ae1-ad80-3066d611e7a9",
   "metadata": {},
   "outputs": [
    {
     "name": "stdout",
     "output_type": "stream",
     "text": [
      "Files already downloaded and verified\n",
      "Files already downloaded and verified\n"
     ]
    }
   ],
   "source": [
    "## 加载数据\n",
    "data, modified_cfg = get_data(cfg.clone())\n",
    "cfg.merge_from_other_cfg(modified_cfg)"
   ]
  },
  {
   "cell_type": "code",
   "execution_count": 11,
   "id": "2d732139-0c56-45ff-9104-708b0056237d",
   "metadata": {
    "scrolled": true
   },
   "outputs": [
    {
     "name": "stdout",
     "output_type": "stream",
     "text": [
     ]
    },
    {
     "ename": "KeyboardInterrupt",
     "evalue": "",
     "output_type": "error",
     "traceback": [
     ]
    }
   ],
   "source": [
    "# # FL开工！\n",
    "from federatedscope.core.fed_runner import FedRunner\n",
    "from federatedscope.core.auxiliaries.worker_builder import get_server_cls, get_client_cls\n",
    "\n",
    "server=get_server_cls(cfg)\n",
    "client=get_client_cls(cfg)\n",
    "Fed_runner = FedRunner(data=data,\n",
    "                       server_class=server,\n",
    "                       client_class=client,\n",
    "                       config=cfg.clone())\n",
    "Fed_runner.run()"
   ]
  },
  {
   "cell_type": "code",
   "execution_count": null,
   "id": "03cddb2d-d448-4feb-915a-4357b8361159",
   "metadata": {},
   "outputs": [],
   "source": [
    "# import numpy as np\n",
    "# from torchvision import transforms\n",
    "# import torchvision\n",
    "# from torch.utils.data import DataLoader\n",
    "# tfs = transforms.Compose([\n",
    "#         transforms.Resize([64, 64]),\n",
    "#         transforms.ToTensor()\n",
    "#     ])\n",
    "\n",
    "# v_dataset = torchvision.datasets.ImageFolder('data/v_femnist/', transform=tfs)\n",
    "# v_dataloader = DataLoader(v_dataset, batch_size=64, shuffle=True)\n",
    "\n",
    "# print(v_dataset)\n",
    "# print(v_dataloader)\n",
    "# # for x, y in v_dataloader:\n",
    "# #     print(x.size())\n",
    "# #     print(y.size())\n",
    "# v_iter = iter(v_dataloader)\n",
    "# batch_x, batch_y = next(v_iter)\n",
    "# print(batch_x.size())\n",
    "# print(batch_y)"
   ]
  },
  {
   "cell_type": "code",
   "execution_count": null,
   "id": "32643232-99dd-49f3-968c-6a95acf2f3f1",
   "metadata": {},
   "outputs": [],
   "source": [
    "# server.show_generated_images()"
   ]
  },
  {
   "cell_type": "code",
   "execution_count": null,
   "id": "5e0ba1c3-fb52-4c09-8975-14e40d091135",
   "metadata": {},
   "outputs": [],
   "source": []
  }
 ],
 "metadata": {
  "kernelspec": {
   "display_name": "fs_231105",
   "language": "python",
   "name": "fs_231105"
  },
  "language_info": {
   "codemirror_mode": {
    "name": "ipython",
    "version": 3
   },
   "file_extension": ".py",
   "mimetype": "text/x-python",
   "name": "python",
   "nbconvert_exporter": "python",
   "pygments_lexer": "ipython3",
   "version": "3.9.18"
  }
 },
 "nbformat": 4,
 "nbformat_minor": 5
}
